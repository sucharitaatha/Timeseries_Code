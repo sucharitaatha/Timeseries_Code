{
 "cells": [
  {
   "cell_type": "code",
   "execution_count": 1,
   "metadata": {
    "colab": {},
    "colab_type": "code",
    "id": "S19jleua1_GE"
   },
   "outputs": [
    {
     "name": "stdout",
     "output_type": "stream",
     "text": [
      "3.8.3 (default, Jul  2 2020, 17:30:36) [MSC v.1916 64 bit (AMD64)]\n"
     ]
    }
   ],
   "source": [
    "import sys\n",
    "print(sys.version)"
   ]
  },
  {
   "cell_type": "code",
   "execution_count": 48,
   "metadata": {
    "colab": {},
    "colab_type": "code",
    "id": "XGXh32Yl3E5s"
   },
   "outputs": [],
   "source": [
    "# Importing dependencies\n",
    "\n",
    "import os\n",
    "os.environ['PYTHONHASHSEED'] = '0'\n",
    "import random as rn\n",
    "import numpy as np\n",
    "np.random.seed(1)\n",
    "rn.seed(3)\n",
    "import tensorflow\n",
    "tensorflow.random.set_seed(2)\n",
    "import pandas as pd\n",
    "import matplotlib.pyplot as plt\n",
    "from keras.models import Sequential, load_model\n",
    "from keras.layers.core import Dense\n",
    "from keras.layers.recurrent import SimpleRNN\n",
    "from keras import optimizers\n",
    "from keras.callbacks import EarlyStopping\n",
    "from sklearn.preprocessing import MinMaxScaler\n",
    "from sklearn.metrics import mean_squared_error, r2_score, mean_absolute_error\n",
    "from keras.layers.recurrent import GRU\n",
    "from math import sqrt\n",
    "import datetime as dt\n",
    "import time\n",
    "plt.style.use('ggplot')"
   ]
  },
  {
   "cell_type": "markdown",
   "metadata": {},
   "source": [
    "## Dataset Preprocessing and Feature Extraction"
   ]
  },
  {
   "cell_type": "code",
   "execution_count": 3,
   "metadata": {
    "colab": {},
    "colab_type": "code",
    "id": "r5O0a39R9Z_Z"
   },
   "outputs": [
    {
     "data": {
      "text/html": [
       "<div>\n",
       "<style scoped>\n",
       "    .dataframe tbody tr th:only-of-type {\n",
       "        vertical-align: middle;\n",
       "    }\n",
       "\n",
       "    .dataframe tbody tr th {\n",
       "        vertical-align: top;\n",
       "    }\n",
       "\n",
       "    .dataframe thead th {\n",
       "        text-align: right;\n",
       "    }\n",
       "</style>\n",
       "<table border=\"1\" class=\"dataframe\">\n",
       "  <thead>\n",
       "    <tr style=\"text-align: right;\">\n",
       "      <th></th>\n",
       "      <th>Date</th>\n",
       "      <th>EUR/USD(Open, Ask)</th>\n",
       "      <th>EUR/USD(High, Ask)</th>\n",
       "      <th>EUR/USD(Low, Ask)</th>\n",
       "      <th>EUR/USD(Close, Ask)</th>\n",
       "      <th>EUR/USD(Open, Bid)</th>\n",
       "      <th>EUR/USD(High, Bid)</th>\n",
       "      <th>EUR/USD(Low, Bid)</th>\n",
       "      <th>EUR/USD(Close, Bid)</th>\n",
       "      <th>Difference in Close Bid in 4 hours</th>\n",
       "      <th>Class A</th>\n",
       "      <th>Class B</th>\n",
       "      <th>Class C</th>\n",
       "      <th>Class D</th>\n",
       "      <th>Group name based on Class</th>\n",
       "      <th>MAX of difference(i.e. J)</th>\n",
       "      <th>MIN of difference(i.e. J)</th>\n",
       "      <th>Class</th>\n",
       "      <th>Bottom Value</th>\n",
       "      <th>Top Value</th>\n",
       "    </tr>\n",
       "  </thead>\n",
       "  <tbody>\n",
       "    <tr>\n",
       "      <th>15088</th>\n",
       "      <td>2007-11-23 01:00:00</td>\n",
       "      <td>1.49240</td>\n",
       "      <td>1.49380</td>\n",
       "      <td>1.4906</td>\n",
       "      <td>1.49090</td>\n",
       "      <td>1.4921</td>\n",
       "      <td>1.49350</td>\n",
       "      <td>1.49027</td>\n",
       "      <td>1.4906</td>\n",
       "      <td>-0.0036</td>\n",
       "      <td>NaN</td>\n",
       "      <td>NaN</td>\n",
       "      <td>NaN</td>\n",
       "      <td>D</td>\n",
       "      <td>D</td>\n",
       "      <td>NaN</td>\n",
       "      <td>NaN</td>\n",
       "      <td>NaN</td>\n",
       "      <td>NaN</td>\n",
       "      <td>NaN</td>\n",
       "    </tr>\n",
       "    <tr>\n",
       "      <th>15089</th>\n",
       "      <td>2007-11-22 23:00:00</td>\n",
       "      <td>1.49450</td>\n",
       "      <td>1.49490</td>\n",
       "      <td>1.4924</td>\n",
       "      <td>1.49240</td>\n",
       "      <td>1.4942</td>\n",
       "      <td>1.49460</td>\n",
       "      <td>1.49210</td>\n",
       "      <td>1.4921</td>\n",
       "      <td>0.0064</td>\n",
       "      <td>NaN</td>\n",
       "      <td>NaN</td>\n",
       "      <td>C</td>\n",
       "      <td>NaN</td>\n",
       "      <td>C</td>\n",
       "      <td>NaN</td>\n",
       "      <td>NaN</td>\n",
       "      <td>NaN</td>\n",
       "      <td>NaN</td>\n",
       "      <td>NaN</td>\n",
       "    </tr>\n",
       "    <tr>\n",
       "      <th>15090</th>\n",
       "      <td>2007-11-22 21:00:00</td>\n",
       "      <td>1.48600</td>\n",
       "      <td>1.49700</td>\n",
       "      <td>1.4860</td>\n",
       "      <td>1.49450</td>\n",
       "      <td>1.4857</td>\n",
       "      <td>1.49660</td>\n",
       "      <td>1.48570</td>\n",
       "      <td>1.4942</td>\n",
       "      <td>0.0097</td>\n",
       "      <td>NaN</td>\n",
       "      <td>NaN</td>\n",
       "      <td>C</td>\n",
       "      <td>NaN</td>\n",
       "      <td>C</td>\n",
       "      <td>NaN</td>\n",
       "      <td>NaN</td>\n",
       "      <td>NaN</td>\n",
       "      <td>NaN</td>\n",
       "      <td>NaN</td>\n",
       "    </tr>\n",
       "    <tr>\n",
       "      <th>15091</th>\n",
       "      <td>2007-11-22 19:00:00</td>\n",
       "      <td>1.48489</td>\n",
       "      <td>1.48615</td>\n",
       "      <td>1.4847</td>\n",
       "      <td>1.48600</td>\n",
       "      <td>1.4845</td>\n",
       "      <td>1.48590</td>\n",
       "      <td>1.48440</td>\n",
       "      <td>1.4857</td>\n",
       "      <td>1.4857</td>\n",
       "      <td>A</td>\n",
       "      <td>NaN</td>\n",
       "      <td>NaN</td>\n",
       "      <td>NaN</td>\n",
       "      <td>A</td>\n",
       "      <td>NaN</td>\n",
       "      <td>NaN</td>\n",
       "      <td>NaN</td>\n",
       "      <td>NaN</td>\n",
       "      <td>NaN</td>\n",
       "    </tr>\n",
       "    <tr>\n",
       "      <th>15092</th>\n",
       "      <td>2007-11-22 17:00:00</td>\n",
       "      <td>1.48548</td>\n",
       "      <td>1.48580</td>\n",
       "      <td>1.4845</td>\n",
       "      <td>1.48489</td>\n",
       "      <td>1.4851</td>\n",
       "      <td>1.48545</td>\n",
       "      <td>1.48394</td>\n",
       "      <td>1.4845</td>\n",
       "      <td>1.4845</td>\n",
       "      <td>A</td>\n",
       "      <td>NaN</td>\n",
       "      <td>NaN</td>\n",
       "      <td>NaN</td>\n",
       "      <td>A</td>\n",
       "      <td>NaN</td>\n",
       "      <td>NaN</td>\n",
       "      <td>NaN</td>\n",
       "      <td>NaN</td>\n",
       "      <td>NaN</td>\n",
       "    </tr>\n",
       "  </tbody>\n",
       "</table>\n",
       "</div>"
      ],
      "text/plain": [
       "                     Date  EUR/USD(Open, Ask)  EUR/USD(High, Ask)  \\\n",
       "15088 2007-11-23 01:00:00             1.49240             1.49380   \n",
       "15089 2007-11-22 23:00:00             1.49450             1.49490   \n",
       "15090 2007-11-22 21:00:00             1.48600             1.49700   \n",
       "15091 2007-11-22 19:00:00             1.48489             1.48615   \n",
       "15092 2007-11-22 17:00:00             1.48548             1.48580   \n",
       "\n",
       "       EUR/USD(Low, Ask)  EUR/USD(Close, Ask)  EUR/USD(Open, Bid)  \\\n",
       "15088             1.4906              1.49090              1.4921   \n",
       "15089             1.4924              1.49240              1.4942   \n",
       "15090             1.4860              1.49450              1.4857   \n",
       "15091             1.4847              1.48600              1.4845   \n",
       "15092             1.4845              1.48489              1.4851   \n",
       "\n",
       "       EUR/USD(High, Bid)  EUR/USD(Low, Bid)  EUR/USD(Close, Bid)  \\\n",
       "15088             1.49350            1.49027               1.4906   \n",
       "15089             1.49460            1.49210               1.4921   \n",
       "15090             1.49660            1.48570               1.4942   \n",
       "15091             1.48590            1.48440               1.4857   \n",
       "15092             1.48545            1.48394               1.4845   \n",
       "\n",
       "       Difference in Close Bid in 4 hours Class A  Class B Class C Class D  \\\n",
       "15088                             -0.0036     NaN      NaN     NaN       D   \n",
       "15089                              0.0064     NaN      NaN       C     NaN   \n",
       "15090                              0.0097     NaN      NaN       C     NaN   \n",
       "15091                              1.4857       A      NaN     NaN     NaN   \n",
       "15092                              1.4845       A      NaN     NaN     NaN   \n",
       "\n",
       "      Group name based on Class  MAX of difference(i.e. J)  \\\n",
       "15088                         D                        NaN   \n",
       "15089                         C                        NaN   \n",
       "15090                         C                        NaN   \n",
       "15091                         A                        NaN   \n",
       "15092                         A                        NaN   \n",
       "\n",
       "       MIN of difference(i.e. J) Class Bottom Value Top Value  \n",
       "15088                        NaN   NaN          NaN       NaN  \n",
       "15089                        NaN   NaN          NaN       NaN  \n",
       "15090                        NaN   NaN          NaN       NaN  \n",
       "15091                        NaN   NaN          NaN       NaN  \n",
       "15092                        NaN   NaN          NaN       NaN  "
      ]
     },
     "execution_count": 3,
     "metadata": {},
     "output_type": "execute_result"
    }
   ],
   "source": [
    "# Loading the dataset\n",
    "df = pd.read_excel('C:/Users/sucha/Documents/Sucharita/Upgrad_Research/Research/Forex_with_News_data.xlsx', sheet_name=\"MarketData\")\n",
    "df.tail()"
   ]
  },
  {
   "cell_type": "code",
   "execution_count": 4,
   "metadata": {},
   "outputs": [
    {
     "data": {
      "text/plain": [
       "<AxesSubplot:>"
      ]
     },
     "execution_count": 4,
     "metadata": {},
     "output_type": "execute_result"
    },
    {
     "data": {
      "image/png": "[encoded data removed]",
      "text/plain": [
       "<Figure size 432x288 with 1 Axes>"
      ]
     },
     "metadata": {},
     "output_type": "display_data"
    }
   ],
   "source": [
    "df['EUR/USD(Close, Bid)'].plot()"
   ]
  },
  {
   "cell_type": "code",
   "execution_count": 5,
   "metadata": {
    "colab": {},
    "colab_type": "code",
    "id": "2H5Lkte_NgWT"
   },
   "outputs": [
    {
     "data": {
      "text/plain": [
       "EUR/USD(Open, Ask)                    0.999494\n",
       "EUR/USD(High, Ask)                    0.999750\n",
       "EUR/USD(Low, Ask)                     0.999760\n",
       "EUR/USD(Close, Ask)                   1.000000\n",
       "EUR/USD(Open, Bid)                    0.999495\n",
       "EUR/USD(High, Bid)                    0.999750\n",
       "EUR/USD(Low, Bid)                     0.999760\n",
       "EUR/USD(Close, Bid)                   1.000000\n",
       "Difference in Close Bid in 4 hours    0.017810\n",
       "Class B                                    NaN\n",
       "MAX of difference(i.e. J)                  NaN\n",
       "MIN of difference(i.e. J)                  NaN\n",
       "Name: EUR/USD(Close, Bid), dtype: float64"
      ]
     },
     "execution_count": 5,
     "metadata": {},
     "output_type": "execute_result"
    }
   ],
   "source": [
    "# Correlation matrix\n",
    "df.corr()['EUR/USD(Close, Bid)']"
   ]
  },
  {
   "cell_type": "code",
   "execution_count": 6,
   "metadata": {
    "colab": {},
    "colab_type": "code",
    "id": "FNioyc6mZUAJ"
   },
   "outputs": [],
   "source": [
    "# Setting up an early stop\n",
    "earlystop = EarlyStopping(monitor='val_loss', min_delta=0.0001, patience=80,  verbose=1, mode='min')\n",
    "callbacks_list = [earlystop]"
   ]
  },
  {
   "cell_type": "code",
   "execution_count": 7,
   "metadata": {},
   "outputs": [],
   "source": [
    "df = df.set_index('Date')"
   ]
  },
  {
   "cell_type": "code",
   "execution_count": 8,
   "metadata": {},
   "outputs": [
    {
     "data": {
      "text/html": [
       "<div>\n",
       "<style scoped>\n",
       "    .dataframe tbody tr th:only-of-type {\n",
       "        vertical-align: middle;\n",
       "    }\n",
       "\n",
       "    .dataframe tbody tr th {\n",
       "        vertical-align: top;\n",
       "    }\n",
       "\n",
       "    .dataframe thead th {\n",
       "        text-align: right;\n",
       "    }\n",
       "</style>\n",
       "<table border=\"1\" class=\"dataframe\">\n",
       "  <thead>\n",
       "    <tr style=\"text-align: right;\">\n",
       "      <th></th>\n",
       "      <th>EUR/USD(Open, Ask)</th>\n",
       "      <th>EUR/USD(High, Ask)</th>\n",
       "      <th>EUR/USD(Low, Ask)</th>\n",
       "      <th>EUR/USD(Close, Ask)</th>\n",
       "      <th>EUR/USD(Open, Bid)</th>\n",
       "      <th>EUR/USD(High, Bid)</th>\n",
       "      <th>EUR/USD(Low, Bid)</th>\n",
       "      <th>EUR/USD(Close, Bid)</th>\n",
       "      <th>Difference in Close Bid in 4 hours</th>\n",
       "      <th>Class A</th>\n",
       "      <th>Class B</th>\n",
       "      <th>Class C</th>\n",
       "      <th>Class D</th>\n",
       "      <th>Group name based on Class</th>\n",
       "      <th>MAX of difference(i.e. J)</th>\n",
       "      <th>MIN of difference(i.e. J)</th>\n",
       "      <th>Class</th>\n",
       "      <th>Bottom Value</th>\n",
       "      <th>Top Value</th>\n",
       "    </tr>\n",
       "    <tr>\n",
       "      <th>Date</th>\n",
       "      <th></th>\n",
       "      <th></th>\n",
       "      <th></th>\n",
       "      <th></th>\n",
       "      <th></th>\n",
       "      <th></th>\n",
       "      <th></th>\n",
       "      <th></th>\n",
       "      <th></th>\n",
       "      <th></th>\n",
       "      <th></th>\n",
       "      <th></th>\n",
       "      <th></th>\n",
       "      <th></th>\n",
       "      <th></th>\n",
       "      <th></th>\n",
       "      <th></th>\n",
       "      <th></th>\n",
       "      <th></th>\n",
       "    </tr>\n",
       "  </thead>\n",
       "  <tbody>\n",
       "    <tr>\n",
       "      <th>2007-11-22 17:00:00</th>\n",
       "      <td>1.48548</td>\n",
       "      <td>1.48580</td>\n",
       "      <td>1.4845</td>\n",
       "      <td>1.48489</td>\n",
       "      <td>1.4851</td>\n",
       "      <td>1.48545</td>\n",
       "      <td>1.48394</td>\n",
       "      <td>1.4845</td>\n",
       "      <td>1.4845</td>\n",
       "      <td>A</td>\n",
       "      <td>NaN</td>\n",
       "      <td>NaN</td>\n",
       "      <td>NaN</td>\n",
       "      <td>A</td>\n",
       "      <td>NaN</td>\n",
       "      <td>NaN</td>\n",
       "      <td>NaN</td>\n",
       "      <td>NaN</td>\n",
       "      <td>NaN</td>\n",
       "    </tr>\n",
       "    <tr>\n",
       "      <th>2007-11-22 19:00:00</th>\n",
       "      <td>1.48489</td>\n",
       "      <td>1.48615</td>\n",
       "      <td>1.4847</td>\n",
       "      <td>1.48600</td>\n",
       "      <td>1.4845</td>\n",
       "      <td>1.48590</td>\n",
       "      <td>1.48440</td>\n",
       "      <td>1.4857</td>\n",
       "      <td>1.4857</td>\n",
       "      <td>A</td>\n",
       "      <td>NaN</td>\n",
       "      <td>NaN</td>\n",
       "      <td>NaN</td>\n",
       "      <td>A</td>\n",
       "      <td>NaN</td>\n",
       "      <td>NaN</td>\n",
       "      <td>NaN</td>\n",
       "      <td>NaN</td>\n",
       "      <td>NaN</td>\n",
       "    </tr>\n",
       "    <tr>\n",
       "      <th>2007-11-22 21:00:00</th>\n",
       "      <td>1.48600</td>\n",
       "      <td>1.49700</td>\n",
       "      <td>1.4860</td>\n",
       "      <td>1.49450</td>\n",
       "      <td>1.4857</td>\n",
       "      <td>1.49660</td>\n",
       "      <td>1.48570</td>\n",
       "      <td>1.4942</td>\n",
       "      <td>0.0097</td>\n",
       "      <td>NaN</td>\n",
       "      <td>NaN</td>\n",
       "      <td>C</td>\n",
       "      <td>NaN</td>\n",
       "      <td>C</td>\n",
       "      <td>NaN</td>\n",
       "      <td>NaN</td>\n",
       "      <td>NaN</td>\n",
       "      <td>NaN</td>\n",
       "      <td>NaN</td>\n",
       "    </tr>\n",
       "    <tr>\n",
       "      <th>2007-11-22 23:00:00</th>\n",
       "      <td>1.49450</td>\n",
       "      <td>1.49490</td>\n",
       "      <td>1.4924</td>\n",
       "      <td>1.49240</td>\n",
       "      <td>1.4942</td>\n",
       "      <td>1.49460</td>\n",
       "      <td>1.49210</td>\n",
       "      <td>1.4921</td>\n",
       "      <td>0.0064</td>\n",
       "      <td>NaN</td>\n",
       "      <td>NaN</td>\n",
       "      <td>C</td>\n",
       "      <td>NaN</td>\n",
       "      <td>C</td>\n",
       "      <td>NaN</td>\n",
       "      <td>NaN</td>\n",
       "      <td>NaN</td>\n",
       "      <td>NaN</td>\n",
       "      <td>NaN</td>\n",
       "    </tr>\n",
       "    <tr>\n",
       "      <th>2007-11-23 01:00:00</th>\n",
       "      <td>1.49240</td>\n",
       "      <td>1.49380</td>\n",
       "      <td>1.4906</td>\n",
       "      <td>1.49090</td>\n",
       "      <td>1.4921</td>\n",
       "      <td>1.49350</td>\n",
       "      <td>1.49027</td>\n",
       "      <td>1.4906</td>\n",
       "      <td>-0.0036</td>\n",
       "      <td>NaN</td>\n",
       "      <td>NaN</td>\n",
       "      <td>NaN</td>\n",
       "      <td>D</td>\n",
       "      <td>D</td>\n",
       "      <td>NaN</td>\n",
       "      <td>NaN</td>\n",
       "      <td>NaN</td>\n",
       "      <td>NaN</td>\n",
       "      <td>NaN</td>\n",
       "    </tr>\n",
       "  </tbody>\n",
       "</table>\n",
       "</div>"
      ],
      "text/plain": [
       "                     EUR/USD(Open, Ask)  EUR/USD(High, Ask)  \\\n",
       "Date                                                          \n",
       "2007-11-22 17:00:00             1.48548             1.48580   \n",
       "2007-11-22 19:00:00             1.48489             1.48615   \n",
       "2007-11-22 21:00:00             1.48600             1.49700   \n",
       "2007-11-22 23:00:00             1.49450             1.49490   \n",
       "2007-11-23 01:00:00             1.49240             1.49380   \n",
       "\n",
       "                     EUR/USD(Low, Ask)  EUR/USD(Close, Ask)  \\\n",
       "Date                                                          \n",
       "2007-11-22 17:00:00             1.4845              1.48489   \n",
       "2007-11-22 19:00:00             1.4847              1.48600   \n",
       "2007-11-22 21:00:00             1.4860              1.49450   \n",
       "2007-11-22 23:00:00             1.4924              1.49240   \n",
       "2007-11-23 01:00:00             1.4906              1.49090   \n",
       "\n",
       "                     EUR/USD(Open, Bid)  EUR/USD(High, Bid)  \\\n",
       "Date                                                          \n",
       "2007-11-22 17:00:00              1.4851             1.48545   \n",
       "2007-11-22 19:00:00              1.4845             1.48590   \n",
       "2007-11-22 21:00:00              1.4857             1.49660   \n",
       "2007-11-22 23:00:00              1.4942             1.49460   \n",
       "2007-11-23 01:00:00              1.4921             1.49350   \n",
       "\n",
       "                     EUR/USD(Low, Bid)  EUR/USD(Close, Bid)  \\\n",
       "Date                                                          \n",
       "2007-11-22 17:00:00            1.48394               1.4845   \n",
       "2007-11-22 19:00:00            1.48440               1.4857   \n",
       "2007-11-22 21:00:00            1.48570               1.4942   \n",
       "2007-11-22 23:00:00            1.49210               1.4921   \n",
       "2007-11-23 01:00:00            1.49027               1.4906   \n",
       "\n",
       "                     Difference in Close Bid in 4 hours Class A  Class B  \\\n",
       "Date                                                                       \n",
       "2007-11-22 17:00:00                              1.4845       A      NaN   \n",
       "2007-11-22 19:00:00                              1.4857       A      NaN   \n",
       "2007-11-22 21:00:00                              0.0097     NaN      NaN   \n",
       "2007-11-22 23:00:00                              0.0064     NaN      NaN   \n",
       "2007-11-23 01:00:00                             -0.0036     NaN      NaN   \n",
       "\n",
       "                    Class C Class D Group name based on Class  \\\n",
       "Date                                                            \n",
       "2007-11-22 17:00:00     NaN     NaN                         A   \n",
       "2007-11-22 19:00:00     NaN     NaN                         A   \n",
       "2007-11-22 21:00:00       C     NaN                         C   \n",
       "2007-11-22 23:00:00       C     NaN                         C   \n",
       "2007-11-23 01:00:00     NaN       D                         D   \n",
       "\n",
       "                     MAX of difference(i.e. J)  MIN of difference(i.e. J)  \\\n",
       "Date                                                                        \n",
       "2007-11-22 17:00:00                        NaN                        NaN   \n",
       "2007-11-22 19:00:00                        NaN                        NaN   \n",
       "2007-11-22 21:00:00                        NaN                        NaN   \n",
       "2007-11-22 23:00:00                        NaN                        NaN   \n",
       "2007-11-23 01:00:00                        NaN                        NaN   \n",
       "\n",
       "                    Class Bottom Value Top Value  \n",
       "Date                                              \n",
       "2007-11-22 17:00:00   NaN          NaN       NaN  \n",
       "2007-11-22 19:00:00   NaN          NaN       NaN  \n",
       "2007-11-22 21:00:00   NaN          NaN       NaN  \n",
       "2007-11-22 23:00:00   NaN          NaN       NaN  \n",
       "2007-11-23 01:00:00   NaN          NaN       NaN  "
      ]
     },
     "execution_count": 8,
     "metadata": {},
     "output_type": "execute_result"
    }
   ],
   "source": [
    "# Reverse the order \n",
    "df = pd.DataFrame(df.iloc[::-1])\n",
    "df.head()"
   ]
  },
  {
   "cell_type": "code",
   "execution_count": 9,
   "metadata": {},
   "outputs": [
    {
     "data": {
      "text/plain": [
       "EUR/USD(Open, Ask)                        0\n",
       "EUR/USD(High, Ask)                        0\n",
       "EUR/USD(Low, Ask)                         0\n",
       "EUR/USD(Close, Ask)                       0\n",
       "EUR/USD(Open, Bid)                        0\n",
       "EUR/USD(High, Bid)                        0\n",
       "EUR/USD(Low, Bid)                         0\n",
       "EUR/USD(Close, Bid)                       0\n",
       "Difference in Close Bid in 4 hours        0\n",
       "Class A                               15091\n",
       "Class B                               15093\n",
       "Class C                                7514\n",
       "Class D                                7581\n",
       "Group name based on Class                 0\n",
       "MAX of difference(i.e. J)             15092\n",
       "MIN of difference(i.e. J)             15092\n",
       "Class                                 15089\n",
       "Bottom Value                          15089\n",
       "Top Value                             15089\n",
       "dtype: int64"
      ]
     },
     "execution_count": 9,
     "metadata": {},
     "output_type": "execute_result"
    }
   ],
   "source": [
    "df.isna().sum()"
   ]
  },
  {
   "cell_type": "code",
   "execution_count": 10,
   "metadata": {},
   "outputs": [
    {
     "data": {
      "text/html": [
       "<div>\n",
       "<style scoped>\n",
       "    .dataframe tbody tr th:only-of-type {\n",
       "        vertical-align: middle;\n",
       "    }\n",
       "\n",
       "    .dataframe tbody tr th {\n",
       "        vertical-align: top;\n",
       "    }\n",
       "\n",
       "    .dataframe thead th {\n",
       "        text-align: right;\n",
       "    }\n",
       "</style>\n",
       "<table border=\"1\" class=\"dataframe\">\n",
       "  <thead>\n",
       "    <tr style=\"text-align: right;\">\n",
       "      <th></th>\n",
       "      <th>open_ask</th>\n",
       "      <th>high_ask</th>\n",
       "      <th>low_ask</th>\n",
       "      <th>close_ask</th>\n",
       "      <th>open_bid</th>\n",
       "      <th>high_bid</th>\n",
       "      <th>low_bid</th>\n",
       "      <th>close_bid</th>\n",
       "    </tr>\n",
       "    <tr>\n",
       "      <th>Date</th>\n",
       "      <th></th>\n",
       "      <th></th>\n",
       "      <th></th>\n",
       "      <th></th>\n",
       "      <th></th>\n",
       "      <th></th>\n",
       "      <th></th>\n",
       "      <th></th>\n",
       "    </tr>\n",
       "  </thead>\n",
       "  <tbody>\n",
       "    <tr>\n",
       "      <th>2007-11-22 17:00:00</th>\n",
       "      <td>1.48548</td>\n",
       "      <td>1.48580</td>\n",
       "      <td>1.4845</td>\n",
       "      <td>1.48489</td>\n",
       "      <td>1.4851</td>\n",
       "      <td>1.48545</td>\n",
       "      <td>1.48394</td>\n",
       "      <td>1.4845</td>\n",
       "    </tr>\n",
       "    <tr>\n",
       "      <th>2007-11-22 19:00:00</th>\n",
       "      <td>1.48489</td>\n",
       "      <td>1.48615</td>\n",
       "      <td>1.4847</td>\n",
       "      <td>1.48600</td>\n",
       "      <td>1.4845</td>\n",
       "      <td>1.48590</td>\n",
       "      <td>1.48440</td>\n",
       "      <td>1.4857</td>\n",
       "    </tr>\n",
       "  </tbody>\n",
       "</table>\n",
       "</div>"
      ],
      "text/plain": [
       "                     open_ask  high_ask  low_ask  close_ask  open_bid  \\\n",
       "Date                                                                    \n",
       "2007-11-22 17:00:00   1.48548   1.48580   1.4845    1.48489    1.4851   \n",
       "2007-11-22 19:00:00   1.48489   1.48615   1.4847    1.48600    1.4845   \n",
       "\n",
       "                     high_bid  low_bid  close_bid  \n",
       "Date                                               \n",
       "2007-11-22 17:00:00   1.48545  1.48394     1.4845  \n",
       "2007-11-22 19:00:00   1.48590  1.48440     1.4857  "
      ]
     },
     "execution_count": 10,
     "metadata": {},
     "output_type": "execute_result"
    }
   ],
   "source": [
    "df = df.drop(['Class A', 'Class B', 'Class C', 'Class D', 'Group name based on Class', 'MAX of difference(i.e. J)', 'MIN of difference(i.e. J)',\n",
    "        'Class', 'Bottom Value', 'Top Value','Difference in Close Bid in 4 hours'], axis = 1)\n",
    "df.rename(columns = {'EUR/USD(Open, Ask)':'open_ask', 'EUR/USD(High, Ask)':'high_ask', 'EUR/USD(Low, Ask)':'low_ask','EUR/USD(Close, Ask)':'close_ask',\n",
    "                           'EUR/USD(Open, Bid)':'open_bid','EUR/USD(High, Bid)':'high_bid','EUR/USD(Low, Bid)':'low_bid','EUR/USD(Close, Bid)':'close_bid'}, inplace = True)\n",
    "df.head(2)"
   ]
  },
  {
   "cell_type": "code",
   "execution_count": 11,
   "metadata": {},
   "outputs": [],
   "source": [
    "def generate_features(df):\n",
    "    \"\"\" Generate features for a stock/index/currency/commodity based on historical price and performance\n",
    "    Args:\n",
    "        df (dataframe with columns \"open\", \"close\", \"high\", \"low\", \"volume\")\n",
    "    Returns:\n",
    "        dataframe, data set with new features\n",
    "    \"\"\"\n",
    "    df_new = pd.DataFrame()\n",
    "    \n",
    "    # 6 original features\n",
    "    #df_new['open'] = df['open_bid']\n",
    "    df_new['open_1'] = df['open_bid'].shift(360)\n",
    "    df_new['close_1'] = df['close_bid'].shift(360)\n",
    "    df_new['high_1'] = df['high_bid'].shift(360)\n",
    "    df_new['low_1'] = df['low_bid'].shift(360)\n",
    "    \n",
    "    # 50 original features\n",
    "    # average price\n",
    "    df_new['avg_price_5'] = df['close_bid'].rolling(window=5).mean().shift(360)\n",
    "    df_new['avg_price_30'] = df['close_bid'].rolling(window=30).mean().shift(360)\n",
    "    df_new['avg_price_90'] = df['close_bid'].rolling(window=90).mean().shift(360)\n",
    "    df_new['avg_price_365'] = df['close_bid'].rolling(window=365).mean().shift(360)\n",
    "    \n",
    "                                               \n",
    "                                                   \n",
    "    # return\n",
    "    df_new['return_1'] = ((df['close_bid'] - df['close_bid'].shift(1)) / df['close_bid'].shift(1)).shift(360)\n",
    "    df_new['return_5'] = ((df['close_bid'] - df['close_bid'].shift(5)) / df['close_bid'].shift(5)).shift(360)\n",
    "    df_new['return_30'] = ((df['close_bid'] - df['close_bid'].shift(30)) / df['close_bid'].shift(30)).shift(360)\n",
    "    df_new['return_90'] = ((df['close_bid'] - df['close_bid'].shift(90)) / df['close_bid'].shift(90)).shift(360)                                                \n",
    "    df_new['return_365'] = ((df['close_bid'] - df['close_bid'].shift(365)) / df['close_bid'].shift(365)).shift(360)\n",
    "    \n",
    "    #average of return\n",
    "    df_new['moving_avg_5'] = df_new['return_1'].rolling(window=5).mean()\n",
    "    df_new['moving_avg_30'] = df_new['return_1'].rolling(window=30).mean()\n",
    "    df_new['moving_avg_90'] = df_new['return_1'].rolling(window=90).mean()\n",
    "    df_new['moving_avg_365'] = df_new['return_1'].rolling(window=365).mean()\n",
    "    \n",
    "       \n",
    "    # the target\n",
    "    df_new['close'] = df['close_bid']\n",
    "    df_new = df_new.dropna(axis=0)\n",
    "    return df_new\n",
    "\n",
    "data_new = generate_features(df)"
   ]
  },
  {
   "cell_type": "code",
   "execution_count": 12,
   "metadata": {},
   "outputs": [
    {
     "data": {
      "text/html": [
       "<div>\n",
       "<style scoped>\n",
       "    .dataframe tbody tr th:only-of-type {\n",
       "        vertical-align: middle;\n",
       "    }\n",
       "\n",
       "    .dataframe tbody tr th {\n",
       "        vertical-align: top;\n",
       "    }\n",
       "\n",
       "    .dataframe thead th {\n",
       "        text-align: right;\n",
       "    }\n",
       "</style>\n",
       "<table border=\"1\" class=\"dataframe\">\n",
       "  <thead>\n",
       "    <tr style=\"text-align: right;\">\n",
       "      <th></th>\n",
       "      <th>open_1</th>\n",
       "      <th>close_1</th>\n",
       "      <th>high_1</th>\n",
       "      <th>low_1</th>\n",
       "      <th>avg_price_5</th>\n",
       "      <th>avg_price_30</th>\n",
       "      <th>avg_price_90</th>\n",
       "      <th>avg_price_365</th>\n",
       "      <th>return_1</th>\n",
       "      <th>return_5</th>\n",
       "      <th>return_30</th>\n",
       "      <th>return_90</th>\n",
       "      <th>return_365</th>\n",
       "      <th>moving_avg_5</th>\n",
       "      <th>moving_avg_30</th>\n",
       "      <th>moving_avg_90</th>\n",
       "      <th>moving_avg_365</th>\n",
       "      <th>close</th>\n",
       "    </tr>\n",
       "    <tr>\n",
       "      <th>Date</th>\n",
       "      <th></th>\n",
       "      <th></th>\n",
       "      <th></th>\n",
       "      <th></th>\n",
       "      <th></th>\n",
       "      <th></th>\n",
       "      <th></th>\n",
       "      <th></th>\n",
       "      <th></th>\n",
       "      <th></th>\n",
       "      <th></th>\n",
       "      <th></th>\n",
       "      <th></th>\n",
       "      <th></th>\n",
       "      <th></th>\n",
       "      <th></th>\n",
       "      <th></th>\n",
       "      <th></th>\n",
       "    </tr>\n",
       "  </thead>\n",
       "  <tbody>\n",
       "    <tr>\n",
       "      <th>2008-02-20 01:00:00</th>\n",
       "      <td>1.47133</td>\n",
       "      <td>1.47079</td>\n",
       "      <td>1.47169</td>\n",
       "      <td>1.47059</td>\n",
       "      <td>1.471720</td>\n",
       "      <td>1.470775</td>\n",
       "      <td>1.470403</td>\n",
       "      <td>1.464040</td>\n",
       "      <td>-0.000367</td>\n",
       "      <td>-0.000483</td>\n",
       "      <td>-0.002597</td>\n",
       "      <td>0.009874</td>\n",
       "      <td>-0.009235</td>\n",
       "      <td>-0.000096</td>\n",
       "      <td>-0.000086</td>\n",
       "      <td>0.00011</td>\n",
       "      <td>-0.000024</td>\n",
       "      <td>1.47110</td>\n",
       "    </tr>\n",
       "    <tr>\n",
       "      <th>2008-02-20 03:00:00</th>\n",
       "      <td>1.47079</td>\n",
       "      <td>1.46905</td>\n",
       "      <td>1.47105</td>\n",
       "      <td>1.46784</td>\n",
       "      <td>1.471154</td>\n",
       "      <td>1.470603</td>\n",
       "      <td>1.470504</td>\n",
       "      <td>1.463994</td>\n",
       "      <td>-0.001183</td>\n",
       "      <td>-0.001923</td>\n",
       "      <td>-0.003493</td>\n",
       "      <td>0.006212</td>\n",
       "      <td>-0.011207</td>\n",
       "      <td>-0.000385</td>\n",
       "      <td>-0.000116</td>\n",
       "      <td>0.00007</td>\n",
       "      <td>-0.000030</td>\n",
       "      <td>1.46996</td>\n",
       "    </tr>\n",
       "  </tbody>\n",
       "</table>\n",
       "</div>"
      ],
      "text/plain": [
       "                      open_1  close_1   high_1    low_1  avg_price_5  \\\n",
       "Date                                                                   \n",
       "2008-02-20 01:00:00  1.47133  1.47079  1.47169  1.47059     1.471720   \n",
       "2008-02-20 03:00:00  1.47079  1.46905  1.47105  1.46784     1.471154   \n",
       "\n",
       "                     avg_price_30  avg_price_90  avg_price_365  return_1  \\\n",
       "Date                                                                       \n",
       "2008-02-20 01:00:00      1.470775      1.470403       1.464040 -0.000367   \n",
       "2008-02-20 03:00:00      1.470603      1.470504       1.463994 -0.001183   \n",
       "\n",
       "                     return_5  return_30  return_90  return_365  moving_avg_5  \\\n",
       "Date                                                                            \n",
       "2008-02-20 01:00:00 -0.000483  -0.002597   0.009874   -0.009235     -0.000096   \n",
       "2008-02-20 03:00:00 -0.001923  -0.003493   0.006212   -0.011207     -0.000385   \n",
       "\n",
       "                     moving_avg_30  moving_avg_90  moving_avg_365    close  \n",
       "Date                                                                        \n",
       "2008-02-20 01:00:00      -0.000086        0.00011       -0.000024  1.47110  \n",
       "2008-02-20 03:00:00      -0.000116        0.00007       -0.000030  1.46996  "
      ]
     },
     "execution_count": 12,
     "metadata": {},
     "output_type": "execute_result"
    }
   ],
   "source": [
    "data_new.head(2)"
   ]
  },
  {
   "cell_type": "code",
   "execution_count": 13,
   "metadata": {
    "colab": {},
    "colab_type": "code",
    "id": "zRVEzZ1FXj_p"
   },
   "outputs": [],
   "source": [
    "#Build and train the model\n",
    "def fit_model(train,val,timesteps,hl,lr,batch,epochs):\n",
    "    X_train = []\n",
    "    Y_train = []\n",
    "    X_val = []\n",
    "    Y_val = []\n",
    "  \n",
    "    # Loop for training data\n",
    "    for i in range(timesteps,train.shape[0]):\n",
    "        X_train.append(train[i-timesteps:i])\n",
    "        Y_train.append(train[i][0])\n",
    "    X_train,Y_train = np.array(X_train),np.array(Y_train)\n",
    "  \n",
    "    # Loop for val data\n",
    "    for i in range(timesteps,val.shape[0]):\n",
    "        X_val.append(val[i-timesteps:i])\n",
    "        Y_val.append(val[i][0])\n",
    "    X_val,Y_val = np.array(X_val),np.array(Y_val)\n",
    "    \n",
    "    # Adding Layers to the model\n",
    "    model = Sequential()\n",
    "    model.add(SimpleRNN(X_train.shape[2],input_shape = (X_train.shape[1],X_train.shape[2]),return_sequences = True,\n",
    "                        activation = 'relu'))\n",
    "    for i in range(len(hl)-1):        \n",
    "        model.add(SimpleRNN(hl[i],activation = 'relu',return_sequences = True))\n",
    "    model.add(SimpleRNN(hl[-1],activation = 'relu'))\n",
    "    model.add(Dense(1))\n",
    "    model.compile(optimizer = optimizers.Adam(lr = lr), loss = 'mean_squared_error')\n",
    "    #print(model.summary())\n",
    "  \n",
    "    # Training the data\n",
    "    history = model.fit(X_train,Y_train,epochs = epochs,batch_size = batch,validation_data = (X_val, Y_val),verbose = 0,\n",
    "                        shuffle = False, callbacks=callbacks_list)\n",
    "    model.reset_states()\n",
    "    return model, history.history['loss'], history.history['val_loss']\n",
    "  "
   ]
  },
  {
   "cell_type": "code",
   "execution_count": 14,
   "metadata": {
    "colab": {},
    "colab_type": "code",
    "id": "LpwHmJeQJqyI"
   },
   "outputs": [],
   "source": [
    "# Evaluating the model\n",
    "def evaluate_model(model,test,timesteps):\n",
    "    X_test = []\n",
    "    Y_test = []\n",
    "\n",
    "    # Loop for testing data\n",
    "    for i in range(timesteps,test.shape[0]):\n",
    "        X_test.append(test[i-timesteps:i])\n",
    "        Y_test.append(test[i][0])\n",
    "    X_test,Y_test = np.array(X_test),np.array(Y_test)\n",
    "    #print(X_test.shape,Y_test.shape)\n",
    "  \n",
    "    # Prediction Time !!!!\n",
    "    Y_hat = model.predict(X_test)\n",
    "    mse = mean_squared_error(Y_test,Y_hat)\n",
    "    rmse = sqrt(mse)\n",
    "    r = r2_score(Y_test,Y_hat)\n",
    "    return mse, rmse, r, Y_test, Y_hat\n",
    "  "
   ]
  },
  {
   "cell_type": "code",
   "execution_count": 15,
   "metadata": {
    "colab": {},
    "colab_type": "code",
    "id": "pI0q18ajCLx6"
   },
   "outputs": [],
   "source": [
    "# Plotting the predictions\n",
    "def plot_data(Y_test,Y_hat, Title):\n",
    "    plt.plot(Y_test,c = 'r')\n",
    "    plt.plot(Y_hat,c = 'y')\n",
    "    plt.xlabel('Day')\n",
    "    plt.ylabel('Price')\n",
    "    plt.title(Title)\n",
    "    plt.legend(['Actual','Predicted'],loc = 'lower right')\n",
    "    plt.show()"
   ]
  },
  {
   "cell_type": "code",
   "execution_count": 16,
   "metadata": {
    "colab": {},
    "colab_type": "code",
    "id": "4NeqKRBZZr0Q"
   },
   "outputs": [],
   "source": [
    "# Plotting the training errors\n",
    "def plot_error(train_loss,val_loss):\n",
    "    plt.plot(train_loss,c = 'r')\n",
    "    plt.plot(val_loss,c = 'b')\n",
    "    plt.ylabel('Loss')\n",
    "    plt.xlabel('Epochs')\n",
    "    plt.title('Loss Plot')\n",
    "    plt.legend(['train','val'],loc = 'upper right')\n",
    "    plt.show()"
   ]
  },
  {
   "cell_type": "markdown",
   "metadata": {},
   "source": [
    "## Model Building"
   ]
  },
  {
   "cell_type": "code",
   "execution_count": 17,
   "metadata": {
    "colab": {},
    "colab_type": "code",
    "id": "gAvOMIyjIQO-"
   },
   "outputs": [
    {
     "name": "stdout",
     "output_type": "stream",
     "text": [
      "(14368, 18)\n",
      "                       close   open_1  close_1   high_1    low_1  avg_price_5  \\\n",
      "Date                                                                            \n",
      "2012-09-27 21:00:00  1.29355  1.23530  1.23512  1.23609  1.23500     1.235418   \n",
      "2012-09-27 23:00:00  1.29323  1.23512  1.23444  1.23513  1.23376     1.235100   \n",
      "2012-09-28 01:00:00  1.29242  1.23444  1.23687  1.23735  1.23432     1.235440   \n",
      "2012-09-28 03:00:00  1.29447  1.23687  1.23683  1.23726  1.23431     1.235712   \n",
      "2012-09-28 05:00:00  1.29374  1.23683  1.23595  1.23809  1.23533     1.235842   \n",
      "\n",
      "                     avg_price_30  avg_price_90  avg_price_365  return_1  \\\n",
      "Date                                                                       \n",
      "2012-09-27 21:00:00      1.231420      1.232717       1.227113 -0.000146   \n",
      "2012-09-27 23:00:00      1.231460      1.232635       1.227101 -0.000551   \n",
      "2012-09-28 01:00:00      1.231593      1.232589       1.227095  0.001969   \n",
      "2012-09-28 03:00:00      1.231761      1.232557       1.227091 -0.000032   \n",
      "2012-09-28 05:00:00      1.231893      1.232520       1.227085 -0.000711   \n",
      "\n",
      "                     return_5  return_30  return_90  return_365  moving_avg_5  \\\n",
      "Date                                                                            \n",
      "2012-09-27 21:00:00 -0.000672   0.002451  -0.005467   -0.003309     -0.000134   \n",
      "2012-09-27 23:00:00 -0.001286   0.000965  -0.005911   -0.003552     -0.000257   \n",
      "2012-09-28 01:00:00  0.001376   0.003253  -0.003352   -0.001695      0.000276   \n",
      "2012-09-28 03:00:00  0.001101   0.004075  -0.002347   -0.001123      0.000220   \n",
      "2012-09-28 05:00:00  0.000526   0.003231  -0.002671   -0.001849      0.000106   \n",
      "\n",
      "                     moving_avg_30  moving_avg_90  moving_avg_365  \n",
      "Date                                                               \n",
      "2012-09-27 21:00:00       0.000082      -0.000060       -0.000008  \n",
      "2012-09-27 23:00:00       0.000033      -0.000065       -0.000008  \n",
      "2012-09-28 01:00:00       0.000109      -0.000036       -0.000003  \n",
      "2012-09-28 03:00:00       0.000136      -0.000025       -0.000002  \n",
      "2012-09-28 05:00:00       0.000108      -0.000029       -0.000004  \n"
     ]
    }
   ],
   "source": [
    "# Extracting the series\n",
    "series = data_new[['close','open_1','close_1','high_1','low_1','avg_price_5','avg_price_30','avg_price_90','avg_price_365','return_1',\n",
    "             'return_5','return_30','return_90','return_365','moving_avg_5','moving_avg_30','moving_avg_90','moving_avg_365']] # Picking the multivariate series \n",
    "print(series.shape)\n",
    "print(series.tail())"
   ]
  },
  {
   "cell_type": "code",
   "execution_count": 18,
   "metadata": {
    "colab": {},
    "colab_type": "code",
    "id": "Tjso-RjNDmbs"
   },
   "outputs": [
    {
     "name": "stdout",
     "output_type": "stream",
     "text": [
      "(8911, 18) (3121, 18) (2336, 18)\n"
     ]
    }
   ],
   "source": [
    "# Train Val Test Split\n",
    "train_start = dt.datetime(2007, 11, 22, 17, 00, 00)\n",
    "train_end = dt.datetime(2010, 12, 31, 11, 00, 00)\n",
    "train_data = series.loc[train_start:train_end]\n",
    "\n",
    "val_start = dt.datetime(2011, 1, 2, 17, 00, 00)\n",
    "val_end = dt.datetime(2011, 12, 30, 15, 00, 00)\n",
    "val_data = series.loc[val_start:val_end]\n",
    "\n",
    "test_start = dt.datetime(2012, 1, 1, 21, 00, 00)\n",
    "test_end = dt.datetime(2012, 9, 28, 5, 00, 00)\n",
    "test_data = series.loc[test_start:test_end]\n",
    "\n",
    "print(train_data.shape,val_data.shape,test_data.shape)"
   ]
  },
  {
   "cell_type": "code",
   "execution_count": 19,
   "metadata": {
    "colab": {},
    "colab_type": "code",
    "id": "NWXR5oL2ZnY4"
   },
   "outputs": [
    {
     "name": "stdout",
     "output_type": "stream",
     "text": [
      "(8911, 18) (3121, 18) (2336, 18)\n"
     ]
    }
   ],
   "source": [
    "# Normalisation\n",
    "sc = MinMaxScaler()\n",
    "train = sc.fit_transform(train_data)\n",
    "val = sc.transform(val_data)\n",
    "test = sc.transform(test_data)\n",
    "print(train.shape,val.shape,test.shape)"
   ]
  },
  {
   "cell_type": "code",
   "execution_count": 20,
   "metadata": {},
   "outputs": [],
   "source": [
    "timesteps = 30\n",
    "hl = [50,45]\n",
    "lr = 1e-3\n",
    "batch_size = 32\n",
    "num_epochs = 200"
   ]
  },
  {
   "cell_type": "code",
   "execution_count": 21,
   "metadata": {},
   "outputs": [
    {
     "data": {
      "image/png": "[encoded data removed]",
      "text/plain": [
       "<Figure size 432x288 with 1 Axes>"
      ]
     },
     "metadata": {},
     "output_type": "display_data"
    }
   ],
   "source": [
    "model,train_error,val_error = fit_model(train,val,timesteps,hl,lr,batch_size,num_epochs)\n",
    "plot_error(train_error,val_error)"
   ]
  },
  {
   "cell_type": "code",
   "execution_count": 22,
   "metadata": {},
   "outputs": [
    {
     "name": "stdout",
     "output_type": "stream",
     "text": [
      "MSE = 0.0023778616007532087\n",
      "RMSE = 0.04876332228994666\n",
      "R-Squared Score = 0.69459121724879\n",
      "MAE =  0.04300403354439645\n"
     ]
    },
    {
     "data": {
      "image/png": "[encoded data removed]",
      "text/plain": [
       "<Figure size 432x288 with 1 Axes>"
      ]
     },
     "metadata": {},
     "output_type": "display_data"
    }
   ],
   "source": [
    "mse, rmse, r2_value,true,predicted = evaluate_model(model,test,30)\n",
    "print('MSE = {}'.format(mse))\n",
    "print('RMSE = {}'.format(rmse))\n",
    "print('R-Squared Score = {}'.format(r2_value))\n",
    "print(\"MAE = \", mean_absolute_error(true, predicted))\n",
    "plot_data(true,predicted,\"Forex Price using Multivariate RNN\")"
   ]
  },
  {
   "cell_type": "code",
   "execution_count": 34,
   "metadata": {},
   "outputs": [
    {
     "data": {
      "text/plain": [
       "array([[0.2600759 ],\n",
       "       [0.2526732 ],\n",
       "       [0.26536036],\n",
       "       ...,\n",
       "       [0.32115957],\n",
       "       [0.318564  ],\n",
       "       [0.32549027]], dtype=float32)"
      ]
     },
     "execution_count": 34,
     "metadata": {},
     "output_type": "execute_result"
    }
   ],
   "source": [
    "predicted"
   ]
  },
  {
   "cell_type": "markdown",
   "metadata": {},
   "source": [
    "## Linear Regression"
   ]
  },
  {
   "cell_type": "code",
   "execution_count": 23,
   "metadata": {},
   "outputs": [
    {
     "name": "stdout",
     "output_type": "stream",
     "text": [
      "(14368, 17)\n",
      "                       close   open_1  close_1   high_1    low_1  avg_price_5  \\\n",
      "Date                                                                            \n",
      "2012-09-27 21:00:00  1.29355  1.23530  1.23512  1.23609  1.23500     1.235418   \n",
      "2012-09-27 23:00:00  1.29323  1.23512  1.23444  1.23513  1.23376     1.235100   \n",
      "2012-09-28 01:00:00  1.29242  1.23444  1.23687  1.23735  1.23432     1.235440   \n",
      "2012-09-28 03:00:00  1.29447  1.23687  1.23683  1.23726  1.23431     1.235712   \n",
      "2012-09-28 05:00:00  1.29374  1.23683  1.23595  1.23809  1.23533     1.235842   \n",
      "\n",
      "                     avg_price_30  avg_price_90  avg_price_365  return_1  \\\n",
      "Date                                                                       \n",
      "2012-09-27 21:00:00      1.231420      1.232717       1.227113 -0.000146   \n",
      "2012-09-27 23:00:00      1.231460      1.232635       1.227101 -0.000551   \n",
      "2012-09-28 01:00:00      1.231593      1.232589       1.227095  0.001969   \n",
      "2012-09-28 03:00:00      1.231761      1.232557       1.227091 -0.000032   \n",
      "2012-09-28 05:00:00      1.231893      1.232520       1.227085 -0.000711   \n",
      "\n",
      "                     return_5  return_30  return_90  return_365  moving_avg_5  \\\n",
      "Date                                                                            \n",
      "2012-09-27 21:00:00 -0.000672   0.002451  -0.005467   -0.003309     -0.000134   \n",
      "2012-09-27 23:00:00 -0.001286   0.000965  -0.005911   -0.003552     -0.000257   \n",
      "2012-09-28 01:00:00  0.001376   0.003253  -0.003352   -0.001695      0.000276   \n",
      "2012-09-28 03:00:00  0.001101   0.004075  -0.002347   -0.001123      0.000220   \n",
      "2012-09-28 05:00:00  0.000526   0.003231  -0.002671   -0.001849      0.000106   \n",
      "\n",
      "                     moving_avg_30  moving_avg_365  \n",
      "Date                                                \n",
      "2012-09-27 21:00:00       0.000082       -0.000008  \n",
      "2012-09-27 23:00:00       0.000033       -0.000008  \n",
      "2012-09-28 01:00:00       0.000109       -0.000003  \n",
      "2012-09-28 03:00:00       0.000136       -0.000002  \n",
      "2012-09-28 05:00:00       0.000108       -0.000004  \n"
     ]
    }
   ],
   "source": [
    "data_s = data_new[['close','open_1','close_1','high_1','low_1','avg_price_5','avg_price_30','avg_price_90','avg_price_365','return_1',\n",
    "                   'return_5','return_30','return_90','return_365','moving_avg_5','moving_avg_30','moving_avg_365']] # Picking the multivariate series \n",
    "print(data_s.shape)\n",
    "print(data_s.tail())"
   ]
  },
  {
   "cell_type": "code",
   "execution_count": 24,
   "metadata": {},
   "outputs": [
    {
     "name": "stdout",
     "output_type": "stream",
     "text": [
      "(10463, 17) (3905, 17)\n"
     ]
    }
   ],
   "source": [
    "# Train Val Test Split\n",
    "train_start = dt.datetime(2007, 11, 22, 17, 00, 00)\n",
    "train_end = dt.datetime(2011, 6, 30, 23, 00, 00)\n",
    "train_data = data_s.loc[train_start:train_end]\n",
    "\n",
    "test_start = dt.datetime(2011, 7, 1, 00, 00, 00)\n",
    "test_end = dt.datetime(2012, 9, 28, 5, 00, 00)\n",
    "test_data = data_s.loc[test_start:test_end]\n",
    "\n",
    "print(train_data.shape,test_data.shape)"
   ]
  },
  {
   "cell_type": "code",
   "execution_count": 25,
   "metadata": {},
   "outputs": [
    {
     "data": {
      "text/plain": [
       "((10463, 16), (3905, 16), (10463,), (3905,))"
      ]
     },
     "execution_count": 25,
     "metadata": {},
     "output_type": "execute_result"
    }
   ],
   "source": [
    "X_train = train_data.drop('close', axis='columns')\n",
    "y_train = train_data['close']\n",
    "\n",
    "X_test = test_data.drop('close', axis='columns')\n",
    "y_test = test_data['close']\n",
    "\n",
    "#checking the shape of the train and test data\n",
    "X_train.shape, X_test.shape, y_train.shape, y_test.shape"
   ]
  },
  {
   "cell_type": "code",
   "execution_count": 26,
   "metadata": {},
   "outputs": [
    {
     "name": "stdout",
     "output_type": "stream",
     "text": [
      "RMSE: 0.0541000229\n",
      "MAE: 0.0450607941\n",
      "R^2: 0.2573487797\n"
     ]
    },
    {
     "data": {
      "image/png": "[encoded data removed]",
      "text/plain": [
       "<Figure size 432x288 with 1 Axes>"
      ]
     },
     "metadata": {},
     "output_type": "display_data"
    }
   ],
   "source": [
    "from sklearn.linear_model import LinearRegression\n",
    "from sklearn.metrics import mean_squared_error, mean_absolute_error, r2_score\n",
    "lin = LinearRegression()\n",
    "\n",
    "lin.fit(X_train, y_train)\n",
    "predictions_lin = lin.predict(X_test)\n",
    "\n",
    "print('RMSE: {0:.10f}'.format(mean_squared_error(y_test, predictions_lin)**0.5))\n",
    "print('MAE: {0:.10f}'.format(mean_absolute_error(y_test, predictions_lin)))\n",
    "print('R^2: {0:.10f}'.format(r2_score(y_test, predictions_lin)))\n",
    "plot_data(y_test,predictions_lin,\"Forex Price using Linear Reg\")"
   ]
  },
  {
   "cell_type": "code",
   "execution_count": 27,
   "metadata": {},
   "outputs": [
    {
     "name": "stdout",
     "output_type": "stream",
     "text": [
      "linear 0.5564061352248133\n",
      "poly 0.5710980211634475\n",
      "rbf 0.5762286805402458\n",
      "sigmoid -27656.827431106085\n"
     ]
    }
   ],
   "source": [
    "from sklearn import svm\n",
    "from sklearn.svm import SVR\n",
    "\n",
    "# First, let's choose which kernel is the best for our data\n",
    "\n",
    "for k in ['linear','poly','rbf','sigmoid']:\n",
    "    clf = svm.SVR(kernel=k)\n",
    "    clf.fit(X_train, y_train)\n",
    "    confidence = clf.score(X_train, y_train)\n",
    "    print(k,confidence)"
   ]
  },
  {
   "cell_type": "code",
   "execution_count": 28,
   "metadata": {},
   "outputs": [
    {
     "name": "stdout",
     "output_type": "stream",
     "text": [
      "0.6021299966127541\n"
     ]
    }
   ],
   "source": [
    "Svr=SVR(kernel='rbf', C=1, gamma= 0.5)   # Parameter Tuning to get the best accuracy\n",
    "\n",
    "# Intuitively, the gamma defines how far the influence of a single training example reaches, with low values meaning ‘far’ and high values meaning ‘close’.\n",
    "# The C parameter trades off correct classification of training examples against maximization of the decision function’s margin. \n",
    "# For larger values of C, a smaller margin will be accepted if the decision function is better at classifying all training points correctly. \n",
    "# A lower C will encourage a larger margin, therefore a simpler decision function, at the cost of training accuracy. \n",
    "# In other words C behaves as a regularization parameter in the SVM.\n",
    "\n",
    "Svr.fit(X_train,y_train)\n",
    "print(Svr.score(X_train,y_train))"
   ]
  },
  {
   "cell_type": "code",
   "execution_count": 29,
   "metadata": {},
   "outputs": [
    {
     "name": "stdout",
     "output_type": "stream",
     "text": [
      "RMSE value of the SVR Model is: 0.046811140190635606\n",
      "MSE value of the SVR Model is: 0.00219128284594734\n",
      "R2 score value of the SVR Model is: 0.443982526675038\n",
      "MAE value of the SVR Model is: 0.038304644957470935\n"
     ]
    }
   ],
   "source": [
    "error = sqrt(mean_squared_error(y_test,Svr.predict(X_test))) #calculate rmse\n",
    "print('RMSE value of the SVR Model is:', sqrt(mean_squared_error(y_test,Svr.predict(X_test))))\n",
    "print('MSE value of the SVR Model is:', (mean_squared_error(y_test,Svr.predict(X_test))))\n",
    "print('R2 score value of the SVR Model is:', (r2_score(y_test,Svr.predict(X_test))))\n",
    "print('MAE value of the SVR Model is:', (mean_absolute_error(y_test,Svr.predict(X_test))))"
   ]
  },
  {
   "cell_type": "code",
   "execution_count": 30,
   "metadata": {},
   "outputs": [
    {
     "data": {
      "text/plain": [
       "array([1.41615581, 1.41601702, 1.40946006, 1.40685777, 1.3975393 ])"
      ]
     },
     "execution_count": 30,
     "metadata": {},
     "output_type": "execute_result"
    }
   ],
   "source": [
    "Svr.predict(X_test)[0:5]  # print the first 5 predictions of our test set"
   ]
  },
  {
   "cell_type": "code",
   "execution_count": 31,
   "metadata": {},
   "outputs": [
    {
     "name": "stdout",
     "output_type": "stream",
     "text": [
      "0.5822015056186145\n",
      "RMSE value of the SVR Model is: 0.04266346656547718\n",
      "MSE value of the SVR Model is: 0.0018201713793835894\n",
      "R2 score value of the SVR Model is: 0.538148581204384\n",
      "MAE value of the SVR Model is: 0.03522307449800574\n"
     ]
    }
   ],
   "source": [
    "Svr=SVR(kernel='rbf', C=0.1, gamma= 0.5)   # Parameter Tuning to get the best accuracy\n",
    "\n",
    "Svr.fit(X_train,y_train)\n",
    "print(Svr.score(X_train,y_train))\n",
    "\n",
    "error = sqrt(mean_squared_error(y_test,Svr.predict(X_test))) #calculate rmse\n",
    "print('RMSE value of the SVR Model is:', sqrt(mean_squared_error(y_test,Svr.predict(X_test))))\n",
    "print('MSE value of the SVR Model is:', (mean_squared_error(y_test,Svr.predict(X_test))))\n",
    "print('R2 score value of the SVR Model is:', (r2_score(y_test,Svr.predict(X_test))))\n",
    "print('MAE value of the SVR Model is:', (mean_absolute_error(y_test,Svr.predict(X_test))))"
   ]
  },
  {
   "cell_type": "code",
   "execution_count": 32,
   "metadata": {},
   "outputs": [
    {
     "name": "stdout",
     "output_type": "stream",
     "text": [
      "0.57023897280649\n",
      "RMSE value of the SVR Model is: 0.04067881132937682\n",
      "MSE value of the SVR Model is: 0.001654765691171036\n",
      "R2 score value of the SVR Model is: 0.5801187234904932\n",
      "MAE value of the SVR Model is: 0.03389201262626059\n"
     ]
    },
    {
     "data": {
      "image/png": "[encoded data removed]",
      "text/plain": [
       "<Figure size 432x288 with 1 Axes>"
      ]
     },
     "metadata": {},
     "output_type": "display_data"
    }
   ],
   "source": [
    "Svr=SVR(kernel='poly', C=0.01, gamma= 0.5)   # Parameter Tuning to get the best accuracy\n",
    "\n",
    "Svr.fit(X_train,y_train)\n",
    "print(Svr.score(X_train,y_train))\n",
    "\n",
    "error = sqrt(mean_squared_error(y_test,Svr.predict(X_test))) #calculate rmse\n",
    "print('RMSE value of the SVR Model is:', sqrt(mean_squared_error(y_test,Svr.predict(X_test))))\n",
    "print('MSE value of the SVR Model is:', (mean_squared_error(y_test,Svr.predict(X_test))))\n",
    "print('R2 score value of the SVR Model is:', (r2_score(y_test,Svr.predict(X_test))))\n",
    "print('MAE value of the SVR Model is:', (mean_absolute_error(y_test,Svr.predict(X_test))))\n",
    "plot_data(y_test,Svr.predict(X_test),\"Forex Price using SVR\")"
   ]
  },
  {
   "cell_type": "markdown",
   "metadata": {},
   "source": [
    "## GRU"
   ]
  },
  {
   "cell_type": "code",
   "execution_count": 39,
   "metadata": {
    "colab": {},
    "colab_type": "code",
    "id": "zRVEzZ1FXj_p"
   },
   "outputs": [],
   "source": [
    "#Build and train the model\n",
    "def fit_model(train,val,timesteps,hl,lr,batch,epochs):\n",
    "    X_train = []\n",
    "    Y_train = []\n",
    "    X_val = []\n",
    "    Y_val = []\n",
    "  \n",
    "    # Loop for training data\n",
    "    for i in range(timesteps,train.shape[0]):\n",
    "        X_train.append(train[i-timesteps:i])\n",
    "        Y_train.append(train[i][0])\n",
    "    X_train,Y_train = np.array(X_train),np.array(Y_train)\n",
    "  \n",
    "    # Loop for val data\n",
    "    for i in range(timesteps,val.shape[0]):\n",
    "        X_val.append(val[i-timesteps:i])\n",
    "        Y_val.append(val[i][0])\n",
    "    X_val,Y_val = np.array(X_val),np.array(Y_val)\n",
    "  \n",
    "    # Adding Layers to the model\n",
    "    model = Sequential()\n",
    "    model.add(GRU(X_train.shape[2],input_shape = (X_train.shape[1],X_train.shape[2]),return_sequences = True,\n",
    "                  activation = 'relu'))\n",
    "    for i in range(len(hl)-1):        \n",
    "        model.add(GRU(hl[i],activation = 'relu',return_sequences = True))\n",
    "    model.add(GRU(hl[-1],activation = 'relu'))\n",
    "    model.add(Dense(1))\n",
    "    model.compile(optimizer = optimizers.Adam(lr = lr), loss = 'mean_squared_error')\n",
    "  \n",
    "    # Training the data\n",
    "    history = model.fit(X_train,Y_train,epochs = epochs,batch_size = batch,validation_data = (X_val, Y_val),verbose = 0,\n",
    "                        shuffle = False, callbacks=callbacks_list)\n",
    "    model.reset_states()\n",
    "    return model, history.history['loss'], history.history['val_loss']\n",
    "  "
   ]
  },
  {
   "cell_type": "code",
   "execution_count": 40,
   "metadata": {
    "colab": {},
    "colab_type": "code",
    "id": "LpwHmJeQJqyI"
   },
   "outputs": [],
   "source": [
    "# Evaluating the model\n",
    "def evaluate_model(model,test,timesteps):\n",
    "    X_test = []\n",
    "    Y_test = []\n",
    "\n",
    "    # Loop for testing data\n",
    "    for i in range(timesteps,test.shape[0]):\n",
    "        X_test.append(test[i-timesteps:i])\n",
    "        Y_test.append(test[i][0])\n",
    "    X_test,Y_test = np.array(X_test),np.array(Y_test)\n",
    "  \n",
    "    # Prediction Time !!!!\n",
    "    Y_hat = model.predict(X_test)\n",
    "    mse = mean_squared_error(Y_test,Y_hat)\n",
    "    rmse = sqrt(mse)\n",
    "    r2 = r2_score(Y_test,Y_hat)\n",
    "    mae = mean_absolute_error(Y_test,Y_hat)\n",
    "    return mse,rmse, r2, mae, Y_test, Y_hat\n",
    "  "
   ]
  },
  {
   "cell_type": "code",
   "execution_count": 41,
   "metadata": {
    "colab": {},
    "colab_type": "code",
    "id": "pI0q18ajCLx6"
   },
   "outputs": [],
   "source": [
    "# Plotting the predictions\n",
    "def plot_data(Y_test,Y_hat):\n",
    "    plt.plot(Y_test,c = 'r')\n",
    "    plt.plot(Y_hat,c = 'y')\n",
    "    plt.xlabel('Day')\n",
    "    plt.ylabel('Price')\n",
    "    plt.title(\"Forex Price Prediction using Multivariate-GRU\")\n",
    "    plt.legend(['Actual','Predicted'],loc = 'lower right')\n",
    "    plt.show()"
   ]
  },
  {
   "cell_type": "code",
   "execution_count": 42,
   "metadata": {
    "colab": {},
    "colab_type": "code",
    "id": "4NeqKRBZZr0Q"
   },
   "outputs": [],
   "source": [
    "# Plotting the training errors\n",
    "def plot_error(train_loss,val_loss):\n",
    "    plt.plot(train_loss,c = 'r')\n",
    "    plt.plot(val_loss,c = 'b')\n",
    "    plt.ylabel('Loss')\n",
    "    plt.xlabel('Epochs')\n",
    "    plt.title('Loss Plot')\n",
    "    plt.legend(['train','val'],loc = 'lower right')\n",
    "    plt.show()"
   ]
  },
  {
   "cell_type": "markdown",
   "metadata": {},
   "source": [
    "### Model Building"
   ]
  },
  {
   "cell_type": "code",
   "execution_count": 43,
   "metadata": {
    "colab": {},
    "colab_type": "code",
    "id": "gAvOMIyjIQO-"
   },
   "outputs": [
    {
     "name": "stdout",
     "output_type": "stream",
     "text": [
      "(14368, 18)\n",
      "                       close   open_1  close_1   high_1    low_1  avg_price_5  \\\n",
      "Date                                                                            \n",
      "2012-09-27 21:00:00  1.29355  1.23530  1.23512  1.23609  1.23500     1.235418   \n",
      "2012-09-27 23:00:00  1.29323  1.23512  1.23444  1.23513  1.23376     1.235100   \n",
      "2012-09-28 01:00:00  1.29242  1.23444  1.23687  1.23735  1.23432     1.235440   \n",
      "2012-09-28 03:00:00  1.29447  1.23687  1.23683  1.23726  1.23431     1.235712   \n",
      "2012-09-28 05:00:00  1.29374  1.23683  1.23595  1.23809  1.23533     1.235842   \n",
      "\n",
      "                     avg_price_30  avg_price_90  avg_price_365  return_1  \\\n",
      "Date                                                                       \n",
      "2012-09-27 21:00:00      1.231420      1.232717       1.227113 -0.000146   \n",
      "2012-09-27 23:00:00      1.231460      1.232635       1.227101 -0.000551   \n",
      "2012-09-28 01:00:00      1.231593      1.232589       1.227095  0.001969   \n",
      "2012-09-28 03:00:00      1.231761      1.232557       1.227091 -0.000032   \n",
      "2012-09-28 05:00:00      1.231893      1.232520       1.227085 -0.000711   \n",
      "\n",
      "                     return_5  return_30  return_90  return_365  moving_avg_5  \\\n",
      "Date                                                                            \n",
      "2012-09-27 21:00:00 -0.000672   0.002451  -0.005467   -0.003309     -0.000134   \n",
      "2012-09-27 23:00:00 -0.001286   0.000965  -0.005911   -0.003552     -0.000257   \n",
      "2012-09-28 01:00:00  0.001376   0.003253  -0.003352   -0.001695      0.000276   \n",
      "2012-09-28 03:00:00  0.001101   0.004075  -0.002347   -0.001123      0.000220   \n",
      "2012-09-28 05:00:00  0.000526   0.003231  -0.002671   -0.001849      0.000106   \n",
      "\n",
      "                     moving_avg_30  moving_avg_90  moving_avg_365  \n",
      "Date                                                               \n",
      "2012-09-27 21:00:00       0.000082      -0.000060       -0.000008  \n",
      "2012-09-27 23:00:00       0.000033      -0.000065       -0.000008  \n",
      "2012-09-28 01:00:00       0.000109      -0.000036       -0.000003  \n",
      "2012-09-28 03:00:00       0.000136      -0.000025       -0.000002  \n",
      "2012-09-28 05:00:00       0.000108      -0.000029       -0.000004  \n"
     ]
    }
   ],
   "source": [
    "# Extracting the series\n",
    "series = data_new[['close','open_1','close_1','high_1','low_1','avg_price_5','avg_price_30','avg_price_90','avg_price_365','return_1',\n",
    "             'return_5','return_30','return_90','return_365','moving_avg_5','moving_avg_30','moving_avg_90','moving_avg_365']] # Picking the multivariate series \n",
    "print(series.shape)\n",
    "print(series.tail())"
   ]
  },
  {
   "cell_type": "code",
   "execution_count": 44,
   "metadata": {
    "colab": {},
    "colab_type": "code",
    "id": "Tjso-RjNDmbs"
   },
   "outputs": [
    {
     "name": "stdout",
     "output_type": "stream",
     "text": [
      "(8911, 18) (3121, 18) (2336, 18)\n"
     ]
    }
   ],
   "source": [
    "# Train Val Test Split\n",
    "train_start = dt.datetime(2007, 11, 22, 17, 00, 00)\n",
    "train_end = dt.datetime(2010, 12, 31, 11, 00, 00)\n",
    "train_data = series.loc[train_start:train_end]\n",
    "\n",
    "val_start = dt.datetime(2011, 1, 2, 17, 00, 00)\n",
    "val_end = dt.datetime(2011, 12, 30, 15, 00, 00)\n",
    "val_data = series.loc[val_start:val_end]\n",
    "\n",
    "test_start = dt.datetime(2012, 1, 1, 21, 00, 00)\n",
    "test_end = dt.datetime(2012, 9, 28, 5, 00, 00)\n",
    "test_data = series.loc[test_start:test_end]\n",
    "\n",
    "print(train_data.shape,val_data.shape,test_data.shape)"
   ]
  },
  {
   "cell_type": "code",
   "execution_count": 45,
   "metadata": {
    "colab": {},
    "colab_type": "code",
    "id": "NWXR5oL2ZnY4"
   },
   "outputs": [
    {
     "name": "stdout",
     "output_type": "stream",
     "text": [
      "(8911, 18) (3121, 18) (2336, 18)\n"
     ]
    }
   ],
   "source": [
    "# Normalisation\n",
    "sc = MinMaxScaler()\n",
    "train = sc.fit_transform(train_data)\n",
    "val = sc.transform(val_data)\n",
    "test = sc.transform(test_data)\n",
    "print(train.shape,val.shape,test.shape)"
   ]
  },
  {
   "cell_type": "code",
   "execution_count": 46,
   "metadata": {},
   "outputs": [],
   "source": [
    "timesteps = 40\n",
    "hl = [40,35]\n",
    "lr = 1e-4\n",
    "batch_size = 64\n",
    "num_epochs = 200"
   ]
  },
  {
   "cell_type": "code",
   "execution_count": 49,
   "metadata": {
    "scrolled": true
   },
   "outputs": [
    {
     "name": "stdout",
     "output_type": "stream",
     "text": [
      "Epoch 00107: early stopping\n"
     ]
    },
    {
     "data": {
      "image/png": "[encoded data removed]",
      "text/plain": [
       "<Figure size 432x288 with 1 Axes>"
      ]
     },
     "metadata": {},
     "output_type": "display_data"
    }
   ],
   "source": [
    "model,train_error,val_error = fit_model(train,val,timesteps,hl,lr,batch_size,num_epochs)\n",
    "plot_error(train_error,val_error)"
   ]
  },
  {
   "cell_type": "code",
   "execution_count": 50,
   "metadata": {},
   "outputs": [
    {
     "name": "stdout",
     "output_type": "stream",
     "text": [
      "MSE = 0.0003979246874131225\n",
      "RMSE = 0.019948049714524036\n",
      "R2-Score = 0.9490926012388791\n",
      "MAE =  0.01594216397216807\n"
     ]
    },
    {
     "data": {
      "image/png": "[encoded data removed]",
      "text/plain": [
       "<Figure size 432x288 with 1 Axes>"
      ]
     },
     "metadata": {},
     "output_type": "display_data"
    }
   ],
   "source": [
    "mse,rmse,r2_value,mae,true,predicted = evaluate_model(model,test,40)\n",
    "print(\"MSE =\",mse)\n",
    "print(\"RMSE =\",rmse)\n",
    "print(\"R2-Score =\",r2_value)\n",
    "print('MAE = ',mae)\n",
    "plot_data(true,predicted)"
   ]
  },
  {
   "cell_type": "markdown",
   "metadata": {},
   "source": [
    "## LSTM"
   ]
  },
  {
   "cell_type": "code",
   "execution_count": 51,
   "metadata": {},
   "outputs": [],
   "source": [
    "from keras.layers.recurrent import LSTM"
   ]
  },
  {
   "cell_type": "code",
   "execution_count": 52,
   "metadata": {
    "colab": {},
    "colab_type": "code",
    "id": "zRVEzZ1FXj_p"
   },
   "outputs": [],
   "source": [
    "#Build and train the model\n",
    "def fit_model(train,val,timesteps,hl,lr,batch,epochs):\n",
    "    X_train = []\n",
    "    Y_train = []\n",
    "    X_val = []\n",
    "    Y_val = []\n",
    "  \n",
    "    # Loop for training data\n",
    "    for i in range(timesteps,train.shape[0]):\n",
    "        X_train.append(train[i-timesteps:i])\n",
    "        Y_train.append(train[i][0])\n",
    "    X_train,Y_train = np.array(X_train),np.array(Y_train)\n",
    "  \n",
    "    # Loop for val data\n",
    "    for i in range(timesteps,val.shape[0]):\n",
    "        X_val.append(val[i-timesteps:i])\n",
    "        Y_val.append(val[i][0])\n",
    "    X_val,Y_val = np.array(X_val),np.array(Y_val)\n",
    "    \n",
    "    # Adding Layers to the model\n",
    "    model = Sequential()\n",
    "    model.add(LSTM(X_train.shape[2],input_shape = (X_train.shape[1],X_train.shape[2]),return_sequences = True, activation = 'relu'))\n",
    "    for i in range(len(hl)-1):        \n",
    "        model.add(LSTM(hl[i],activation = 'relu',return_sequences = True))\n",
    "    model.add(LSTM(hl[-1],activation = 'relu'))\n",
    "    model.add(Dense(1))\n",
    "    model.compile(optimizer = optimizers.Adam(lr = lr), loss = 'mean_squared_error')\n",
    "    #print(model.summary())\n",
    "  \n",
    "    # Training the data\n",
    "    history = model.fit(X_train,Y_train,epochs = epochs,batch_size = batch,validation_data = (X_val, Y_val),verbose = 0,\n",
    "                        shuffle = False, callbacks=callbacks_list)\n",
    "    model.reset_states()\n",
    "    return model, history.history['loss'], history.history['val_loss']\n"
   ]
  },
  {
   "cell_type": "code",
   "execution_count": 53,
   "metadata": {
    "colab": {},
    "colab_type": "code",
    "id": "LpwHmJeQJqyI"
   },
   "outputs": [],
   "source": [
    "# Evaluating the model\n",
    "def evaluate_model(model,test,timesteps):\n",
    "    X_test = []\n",
    "    Y_test = []\n",
    "\n",
    "    # Loop for testing data\n",
    "    for i in range(timesteps,test.shape[0]):\n",
    "        X_test.append(test[i-timesteps:i])\n",
    "        Y_test.append(test[i][0])\n",
    "    X_test,Y_test = np.array(X_test),np.array(Y_test)\n",
    "    #print(X_test.shape,Y_test.shape)\n",
    "  \n",
    "    # Prediction Time !!!!\n",
    "    Y_hat = model.predict(X_test)\n",
    "    mse = mean_squared_error(Y_test,Y_hat)\n",
    "    rmse = sqrt(mse)\n",
    "    r = r2_score(Y_test,Y_hat)\n",
    "    return mse, rmse, r, Y_test, Y_hat\n",
    "  "
   ]
  },
  {
   "cell_type": "code",
   "execution_count": 54,
   "metadata": {
    "colab": {},
    "colab_type": "code",
    "id": "pI0q18ajCLx6"
   },
   "outputs": [],
   "source": [
    "# Plotting the predictions\n",
    "def plot_data(Y_test,Y_hat):\n",
    "    plt.plot(Y_test,c = 'r')\n",
    "    plt.plot(Y_hat,c = 'y')\n",
    "    plt.xlabel('Day')\n",
    "    plt.ylabel('Price')\n",
    "    plt.title('Forex Prediction Graph using Multivariate-LSTM model')\n",
    "    plt.legend(['Actual','Predicted'],loc = 'lower right')\n",
    "    plt.show()"
   ]
  },
  {
   "cell_type": "code",
   "execution_count": 55,
   "metadata": {
    "colab": {},
    "colab_type": "code",
    "id": "4NeqKRBZZr0Q"
   },
   "outputs": [],
   "source": [
    "# Plotting the training errors\n",
    "def plot_error(train_loss,val_loss):\n",
    "    plt.plot(train_loss,c = 'r')\n",
    "    plt.plot(val_loss,c = 'b')\n",
    "    plt.ylabel('Loss')\n",
    "    plt.legend(['train','val'],loc = 'upper right')\n",
    "    plt.show()"
   ]
  },
  {
   "cell_type": "markdown",
   "metadata": {},
   "source": [
    "### Model Building"
   ]
  },
  {
   "cell_type": "code",
   "execution_count": 56,
   "metadata": {
    "colab": {},
    "colab_type": "code",
    "id": "gAvOMIyjIQO-"
   },
   "outputs": [
    {
     "name": "stdout",
     "output_type": "stream",
     "text": [
      "(14368, 18)\n",
      "                       close   open_1  close_1   high_1    low_1  avg_price_5  \\\n",
      "Date                                                                            \n",
      "2012-09-27 21:00:00  1.29355  1.23530  1.23512  1.23609  1.23500     1.235418   \n",
      "2012-09-27 23:00:00  1.29323  1.23512  1.23444  1.23513  1.23376     1.235100   \n",
      "2012-09-28 01:00:00  1.29242  1.23444  1.23687  1.23735  1.23432     1.235440   \n",
      "2012-09-28 03:00:00  1.29447  1.23687  1.23683  1.23726  1.23431     1.235712   \n",
      "2012-09-28 05:00:00  1.29374  1.23683  1.23595  1.23809  1.23533     1.235842   \n",
      "\n",
      "                     avg_price_30  avg_price_90  avg_price_365  return_1  \\\n",
      "Date                                                                       \n",
      "2012-09-27 21:00:00      1.231420      1.232717       1.227113 -0.000146   \n",
      "2012-09-27 23:00:00      1.231460      1.232635       1.227101 -0.000551   \n",
      "2012-09-28 01:00:00      1.231593      1.232589       1.227095  0.001969   \n",
      "2012-09-28 03:00:00      1.231761      1.232557       1.227091 -0.000032   \n",
      "2012-09-28 05:00:00      1.231893      1.232520       1.227085 -0.000711   \n",
      "\n",
      "                     return_5  return_30  return_90  return_365  moving_avg_5  \\\n",
      "Date                                                                            \n",
      "2012-09-27 21:00:00 -0.000672   0.002451  -0.005467   -0.003309     -0.000134   \n",
      "2012-09-27 23:00:00 -0.001286   0.000965  -0.005911   -0.003552     -0.000257   \n",
      "2012-09-28 01:00:00  0.001376   0.003253  -0.003352   -0.001695      0.000276   \n",
      "2012-09-28 03:00:00  0.001101   0.004075  -0.002347   -0.001123      0.000220   \n",
      "2012-09-28 05:00:00  0.000526   0.003231  -0.002671   -0.001849      0.000106   \n",
      "\n",
      "                     moving_avg_30  moving_avg_90  moving_avg_365  \n",
      "Date                                                               \n",
      "2012-09-27 21:00:00       0.000082      -0.000060       -0.000008  \n",
      "2012-09-27 23:00:00       0.000033      -0.000065       -0.000008  \n",
      "2012-09-28 01:00:00       0.000109      -0.000036       -0.000003  \n",
      "2012-09-28 03:00:00       0.000136      -0.000025       -0.000002  \n",
      "2012-09-28 05:00:00       0.000108      -0.000029       -0.000004  \n"
     ]
    }
   ],
   "source": [
    "# Extracting the series\n",
    "series = data_new[['close','open_1','close_1','high_1','low_1','avg_price_5','avg_price_30','avg_price_90','avg_price_365','return_1',\n",
    "             'return_5','return_30','return_90','return_365','moving_avg_5','moving_avg_30','moving_avg_90','moving_avg_365']] # Picking the multivariate series \n",
    "print(series.shape)\n",
    "print(series.tail())"
   ]
  },
  {
   "cell_type": "code",
   "execution_count": 57,
   "metadata": {
    "colab": {},
    "colab_type": "code",
    "id": "Tjso-RjNDmbs"
   },
   "outputs": [
    {
     "name": "stdout",
     "output_type": "stream",
     "text": [
      "(8911, 18) (3121, 18) (2336, 18)\n"
     ]
    }
   ],
   "source": [
    "# Train Val Test Split\n",
    "train_start = dt.datetime(2007, 11, 22, 17, 00, 00)\n",
    "train_end = dt.datetime(2010, 12, 31, 11, 00, 00)\n",
    "train_data = series.loc[train_start:train_end]\n",
    "\n",
    "val_start = dt.datetime(2011, 1, 2, 17, 00, 00)\n",
    "val_end = dt.datetime(2011, 12, 30, 15, 00, 00)\n",
    "val_data = series.loc[val_start:val_end]\n",
    "\n",
    "test_start = dt.datetime(2012, 1, 1, 21, 00, 00)\n",
    "test_end = dt.datetime(2012, 9, 28, 5, 00, 00)\n",
    "test_data = series.loc[test_start:test_end]\n",
    "\n",
    "print(train_data.shape,val_data.shape,test_data.shape)"
   ]
  },
  {
   "cell_type": "code",
   "execution_count": 58,
   "metadata": {
    "colab": {},
    "colab_type": "code",
    "id": "NWXR5oL2ZnY4"
   },
   "outputs": [
    {
     "name": "stdout",
     "output_type": "stream",
     "text": [
      "(8911, 18) (3121, 18) (2336, 18)\n"
     ]
    }
   ],
   "source": [
    "# Normalisation\n",
    "sc = MinMaxScaler()\n",
    "train = sc.fit_transform(train_data)\n",
    "val = sc.transform(val_data)\n",
    "test = sc.transform(test_data)\n",
    "print(train.shape,val.shape,test.shape)"
   ]
  },
  {
   "cell_type": "code",
   "execution_count": 59,
   "metadata": {},
   "outputs": [],
   "source": [
    "timesteps = 50\n",
    "hl = [40,35]\n",
    "lr = 1e-3\n",
    "batch_size = 64\n",
    "num_epochs = 250"
   ]
  },
  {
   "cell_type": "code",
   "execution_count": 60,
   "metadata": {},
   "outputs": [
    {
     "name": "stdout",
     "output_type": "stream",
     "text": [
      "Epoch 00185: early stopping\n"
     ]
    },
    {
     "data": {
      "image/png": "[encoded data removed]",
      "text/plain": [
       "<Figure size 432x288 with 1 Axes>"
      ]
     },
     "metadata": {},
     "output_type": "display_data"
    }
   ],
   "source": [
    "model,train_error,val_error = fit_model(train,val,timesteps,hl,lr,batch_size,num_epochs)\n",
    "plot_error(train_error,val_error)"
   ]
  },
  {
   "cell_type": "code",
   "execution_count": 61,
   "metadata": {},
   "outputs": [
    {
     "name": "stdout",
     "output_type": "stream",
     "text": [
      "MSE = 0.0010315603302062484\n",
      "RMSE = 0.03211791291796913\n",
      "R-Squared Score = 0.8686019385611303\n",
      "MAE =  0.028069584894581598\n"
     ]
    },
    {
     "data": {
      "image/png": "[encoded data removed]",
      "text/plain": [
       "<Figure size 432x288 with 1 Axes>"
      ]
     },
     "metadata": {},
     "output_type": "display_data"
    }
   ],
   "source": [
    "mse, rmse, r2_value,true,predicted = evaluate_model(model,test,timesteps)\n",
    "print('MSE = {}'.format(mse))\n",
    "print('RMSE = {}'.format(rmse))\n",
    "print('R-Squared Score = {}'.format(r2_value))\n",
    "print(\"MAE = \", mean_absolute_error(true, predicted))\n",
    "plot_data(true,predicted)"
   ]
  },
  {
   "cell_type": "markdown",
   "metadata": {},
   "source": [
    "# "
   ]
  }
 ],
 "metadata": {
  "accelerator": "TPU",
  "colab": {
   "collapsed_sections": [],
   "name": "Multivariate-3-RNN.ipynb",
   "provenance": [
    {
     "file_id": "1ANiwUb7Hem1MxFKaX-BUbbEjAGAmJ2l8",
     "timestamp": 1551233927654
    },
    {
     "file_id": "1TbS1iN6r9LWkUIIg2eyr5EB0pIzV5yAK",
     "timestamp": 1551228758851
    },
    {
     "file_id": "1iQNCZLjJhQ56R4aZ1sLrnNQ4PS2KfN2m",
     "timestamp": 1551146300148
    },
    {
     "file_id": "1OKnKPBI38XYPGQW0xUAj0nnJbfO6SuXE",
     "timestamp": 1550670800726
    }
   ],
   "version": "0.3.2"
  },
  "kernelspec": {
   "display_name": "Python 3",
   "language": "python",
   "name": "python3"
  },
  "language_info": {
   "codemirror_mode": {
    "name": "ipython",
    "version": 3
   },
   "file_extension": ".py",
   "mimetype": "text/x-python",
   "name": "python",
   "nbconvert_exporter": "python",
   "pygments_lexer": "ipython3",
   "version": "3.8.3"
  }
 },
 "nbformat": 4,
 "nbformat_minor": 1
}
